{
 "cells": [
  {
   "cell_type": "code",
   "execution_count": null,
   "metadata": {},
   "outputs": [],
   "source": [
    "# Quantopian code\n",
    "# Please copy and paste it on Quantopian IDE\n",
    "\n",
    "import numpy as np\n",
    "\n",
    "def initialize(context):\n",
    "    schedule_function(check_pairs, date_rules.every_day(), time_rules.market_close(minutes=60))\n",
    "        \n",
    "    # Canadian Natural Resources\n",
    "    context.cnq = sid(21735)\n",
    "    \n",
    "    # Pioneer Natural Resources Company\n",
    "    context.pxd = sid(17436)\n",
    "    \n",
    "    context.long_on_spread = False\n",
    "    context.shorting_spread = False\n",
    "    \n",
    "    \n",
    "def check_pairs(context, data):\n",
    "    cnq = context.cnq\n",
    "    pxd = context.pxd\n",
    "    \n",
    "    prices = data.history([cnq, pxd], 'price', 30, '1d')\n",
    "    \n",
    "    short_prices = prices.iloc[-1:]\n",
    "    \n",
    "    # Spread\n",
    "    mavg_30 = np.mean(prices[cnq] - prices[pxd])\n",
    "    std_30 = np.std(prices[cnq] - prices[pxd])\n",
    "    mavg_1 = np.mean(short_prices[cnq] - short_prices[pxd])\n",
    "    \n",
    "    if std_30 > 0:\n",
    "        zscore = (mavg_1 - mavg_30) / std_30\n",
    "        \n",
    "        # Spread = CNQ - PXD\n",
    "        if zscore > 1.2 and not context.shorting_spread:\n",
    "            order_target_percent(cnq, -0.5) \n",
    "            order_target_percent(pxd, 0.5) \n",
    "            context.shorting_spread = True\n",
    "            context.long_on_spread = False\n",
    "            \n",
    "        elif zscore < 1.2 and not context.long_on_spread:\n",
    "            order_target_percent(cnq, 0.5) \n",
    "            order_target_percent(pxd, -0.5) \n",
    "            context.shorting_spread = False\n",
    "            context.long_on_spread = True\n",
    "            \n",
    "        elif abs(zscore) < 0.1:\n",
    "            order_target_percent(cnq, 0)\n",
    "            order_target_percent(pxd, 0)\n",
    "            context.shorting_spread = False\n",
    "            context.long_on_spread = False\n",
    "                \n",
    "        record(Z_score = zscore)"
   ]
  }
 ],
 "metadata": {
  "kernelspec": {
   "display_name": "Python 3",
   "language": "python",
   "name": "python3"
  },
  "language_info": {
   "codemirror_mode": {
    "name": "ipython",
    "version": 3
   },
   "file_extension": ".py",
   "mimetype": "text/x-python",
   "name": "python",
   "nbconvert_exporter": "python",
   "pygments_lexer": "ipython3",
   "version": "3.6.10"
  }
 },
 "nbformat": 4,
 "nbformat_minor": 4
}
